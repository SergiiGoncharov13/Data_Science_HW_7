{
  "nbformat": 4,
  "nbformat_minor": 0,
  "metadata": {
    "colab": {
      "provenance": []
    },
    "kernelspec": {
      "name": "python3",
      "display_name": "Python 3"
    },
    "language_info": {
      "name": "python"
    }
  },
  "cells": [
    {
      "cell_type": "code",
      "execution_count": 1,
      "metadata": {
        "colab": {
          "base_uri": "https://localhost:8080/"
        },
        "id": "FpOidox3p9a1",
        "outputId": "222110e1-aade-47d9-a7be-f40ccb3d788a"
      },
      "outputs": [
        {
          "output_type": "stream",
          "name": "stdout",
          "text": [
            "Collecting scikit-surprise\n",
            "  Downloading scikit-surprise-1.1.3.tar.gz (771 kB)\n",
            "\u001b[?25l     \u001b[90m━━━━━━━━━━━━━━━━━━━━━━━━━━━━━━━━━━━━━━━━\u001b[0m \u001b[32m0.0/772.0 kB\u001b[0m \u001b[31m?\u001b[0m eta \u001b[36m-:--:--\u001b[0m\r\u001b[2K     \u001b[91m━━━━━━\u001b[0m\u001b[90m╺\u001b[0m\u001b[90m━━━━━━━━━━━━━━━━━━━━━━━━━━━━━━━━\u001b[0m \u001b[32m122.9/772.0 kB\u001b[0m \u001b[31m3.5 MB/s\u001b[0m eta \u001b[36m0:00:01\u001b[0m\r\u001b[2K     \u001b[91m━━━━━━━━━━━━━━━━━━━━━━━━━━━━━━━━━━━━━\u001b[0m\u001b[91m╸\u001b[0m \u001b[32m768.0/772.0 kB\u001b[0m \u001b[31m11.1 MB/s\u001b[0m eta \u001b[36m0:00:01\u001b[0m\r\u001b[2K     \u001b[90m━━━━━━━━━━━━━━━━━━━━━━━━━━━━━━━━━━━━━━━\u001b[0m \u001b[32m772.0/772.0 kB\u001b[0m \u001b[31m9.2 MB/s\u001b[0m eta \u001b[36m0:00:00\u001b[0m\n",
            "\u001b[?25h  Preparing metadata (setup.py) ... \u001b[?25l\u001b[?25hdone\n",
            "Requirement already satisfied: joblib>=1.0.0 in /usr/local/lib/python3.10/dist-packages (from scikit-surprise) (1.3.1)\n",
            "Requirement already satisfied: numpy>=1.17.3 in /usr/local/lib/python3.10/dist-packages (from scikit-surprise) (1.22.4)\n",
            "Requirement already satisfied: scipy>=1.3.2 in /usr/local/lib/python3.10/dist-packages (from scikit-surprise) (1.10.1)\n",
            "Building wheels for collected packages: scikit-surprise\n",
            "  Building wheel for scikit-surprise (setup.py) ... \u001b[?25l\u001b[?25hdone\n",
            "  Created wheel for scikit-surprise: filename=scikit_surprise-1.1.3-cp310-cp310-linux_x86_64.whl size=2811642 sha256=11e99dcbd346e96fa29bd66b85cccb30953dca6209021b40e194f443f8a04d9a\n",
            "  Stored in directory: /root/.cache/pip/wheels/a5/ca/a8/4e28def53797fdc4363ca4af740db15a9c2f1595ebc51fb445\n",
            "Successfully built scikit-surprise\n",
            "Installing collected packages: scikit-surprise\n",
            "Successfully installed scikit-surprise-1.1.3\n"
          ]
        }
      ],
      "source": [
        "!pip install scikit-surprise"
      ]
    },
    {
      "cell_type": "code",
      "source": [
        "import pandas as pd\n",
        "\n",
        "from surprise import Dataset, SVD, SVDpp, NMF\n",
        "from surprise.model_selection import cross_validate\n",
        "from collections import defaultdict\n",
        "from surprise.model_selection import train_test_split"
      ],
      "metadata": {
        "id": "EEECy9Rop_Ib"
      },
      "execution_count": 50,
      "outputs": []
    },
    {
      "cell_type": "code",
      "source": [
        "data = Dataset.load_builtin(\"ml-100k\")"
      ],
      "metadata": {
        "id": "dJ15JNCuqCzT"
      },
      "execution_count": 51,
      "outputs": []
    },
    {
      "cell_type": "code",
      "source": [
        "with open(\"/root/.surprise_data/ml-100k/ml-100k/u.info\", \"r\") as f:\n",
        "    print(f.read())"
      ],
      "metadata": {
        "colab": {
          "base_uri": "https://localhost:8080/"
        },
        "id": "2GhCsUZkqGdc",
        "outputId": "364bee09-b02d-450e-bcc5-94eaca7be90c"
      },
      "execution_count": 52,
      "outputs": [
        {
          "output_type": "stream",
          "name": "stdout",
          "text": [
            "943 users\n",
            "1682 items\n",
            "100000 ratings\n",
            "\n"
          ]
        }
      ]
    },
    {
      "cell_type": "code",
      "source": [
        "#SVD\n",
        "algoSVD = SVD()"
      ],
      "metadata": {
        "id": "Tx2J-weLvzQj"
      },
      "execution_count": 53,
      "outputs": []
    },
    {
      "cell_type": "code",
      "source": [
        "result_SVD = cross_validate(algoSVD, data, measures=['RMSE', 'MAE'], cv=5, verbose=True)"
      ],
      "metadata": {
        "colab": {
          "base_uri": "https://localhost:8080/"
        },
        "id": "ET3EN0J8uxtd",
        "outputId": "37ea50da-68ef-4f73-8b1b-84e296156421"
      },
      "execution_count": 54,
      "outputs": [
        {
          "output_type": "stream",
          "name": "stdout",
          "text": [
            "Evaluating RMSE, MAE of algorithm SVD on 5 split(s).\n",
            "\n",
            "                  Fold 1  Fold 2  Fold 3  Fold 4  Fold 5  Mean    Std     \n",
            "RMSE (testset)    0.9322  0.9449  0.9396  0.9338  0.9278  0.9357  0.0060  \n",
            "MAE (testset)     0.7327  0.7478  0.7403  0.7362  0.7311  0.7376  0.0060  \n",
            "Fit time          1.82    1.47    1.37    1.36    2.39    1.68    0.39    \n",
            "Test time         0.45    0.14    0.14    0.14    0.29    0.23    0.12    \n"
          ]
        }
      ]
    },
    {
      "cell_type": "code",
      "source": [
        "meanSVD_rmse = result_SVD['test_rmse'].mean()"
      ],
      "metadata": {
        "id": "FfDoRTgRwZyw"
      },
      "execution_count": 55,
      "outputs": []
    },
    {
      "cell_type": "code",
      "source": [
        "meanSVD_rmse"
      ],
      "metadata": {
        "colab": {
          "base_uri": "https://localhost:8080/"
        },
        "id": "AYJhuLJVwk-N",
        "outputId": "06557589-f7e4-4080-b14e-2ff9ff3ef120"
      },
      "execution_count": 56,
      "outputs": [
        {
          "output_type": "execute_result",
          "data": {
            "text/plain": [
              "0.9356765370833641"
            ]
          },
          "metadata": {},
          "execution_count": 56
        }
      ]
    },
    {
      "cell_type": "code",
      "source": [
        "meanSVD_mae = result_SVD['test_mae'].mean()"
      ],
      "metadata": {
        "id": "bgcMDiGSwsZU"
      },
      "execution_count": 57,
      "outputs": []
    },
    {
      "cell_type": "code",
      "source": [
        "meanSVD_mae"
      ],
      "metadata": {
        "colab": {
          "base_uri": "https://localhost:8080/"
        },
        "id": "9udiYfVYwuA_",
        "outputId": "2411f25a-5b90-4aa5-d819-fa1df6dc383c"
      },
      "execution_count": 58,
      "outputs": [
        {
          "output_type": "execute_result",
          "data": {
            "text/plain": [
              "0.73762454062293"
            ]
          },
          "metadata": {},
          "execution_count": 58
        }
      ]
    },
    {
      "cell_type": "code",
      "source": [
        "# NMF\n",
        "algo_NMF = NMF()"
      ],
      "metadata": {
        "id": "e5z4pCGvwax_"
      },
      "execution_count": 59,
      "outputs": []
    },
    {
      "cell_type": "code",
      "source": [
        "result_NMF = cross_validate(algo_NMF, data, measures=['RMSE', 'MAE'], cv=5, verbose=True)"
      ],
      "metadata": {
        "colab": {
          "base_uri": "https://localhost:8080/"
        },
        "id": "hAakk5udwa5h",
        "outputId": "d497f4ac-2f10-4768-af29-19a62572a083"
      },
      "execution_count": 60,
      "outputs": [
        {
          "output_type": "stream",
          "name": "stdout",
          "text": [
            "Evaluating RMSE, MAE of algorithm NMF on 5 split(s).\n",
            "\n",
            "                  Fold 1  Fold 2  Fold 3  Fold 4  Fold 5  Mean    Std     \n",
            "RMSE (testset)    0.9702  0.9694  0.9623  0.9578  0.9603  0.9640  0.0050  \n",
            "MAE (testset)     0.7623  0.7638  0.7526  0.7546  0.7550  0.7577  0.0045  \n",
            "Fit time          2.42    2.14    2.15    2.15    3.41    2.46    0.49    \n",
            "Test time         0.34    0.13    0.12    0.31    0.17    0.22    0.09    \n"
          ]
        }
      ]
    },
    {
      "cell_type": "code",
      "source": [
        "meanNMF_rmse = result_NMF['test_rmse'].mean()"
      ],
      "metadata": {
        "id": "7lEVVVoZyG8a"
      },
      "execution_count": 61,
      "outputs": []
    },
    {
      "cell_type": "code",
      "source": [
        "meanNMF_rmse"
      ],
      "metadata": {
        "colab": {
          "base_uri": "https://localhost:8080/"
        },
        "id": "ejqwu-2KyltZ",
        "outputId": "73f6b7df-d388-4cc8-c8b9-c1fe6e2db47f"
      },
      "execution_count": 62,
      "outputs": [
        {
          "output_type": "execute_result",
          "data": {
            "text/plain": [
              "0.9640007465287198"
            ]
          },
          "metadata": {},
          "execution_count": 62
        }
      ]
    },
    {
      "cell_type": "code",
      "source": [
        "meanNMF_mae = result_NMF['test_mae'].mean()"
      ],
      "metadata": {
        "id": "LXZ9x6EbylkA"
      },
      "execution_count": 63,
      "outputs": []
    },
    {
      "cell_type": "code",
      "source": [
        "meanNMF_mae"
      ],
      "metadata": {
        "colab": {
          "base_uri": "https://localhost:8080/"
        },
        "id": "ZLDhXPnbylZ4",
        "outputId": "d1baf04b-e9cb-47b7-fa68-524deaa873ce"
      },
      "execution_count": 64,
      "outputs": [
        {
          "output_type": "execute_result",
          "data": {
            "text/plain": [
              "0.7576627901162313"
            ]
          },
          "metadata": {},
          "execution_count": 64
        }
      ]
    },
    {
      "cell_type": "code",
      "source": [
        "# SVD++\n",
        "algo_SVDpp = SVDpp()"
      ],
      "metadata": {
        "id": "tYFz4g3gzE5Q"
      },
      "execution_count": 65,
      "outputs": []
    },
    {
      "cell_type": "code",
      "source": [
        "result_SVDpp = cross_validate(algo_SVDpp, data, measures=['RMSE', 'MAE'], cv=5, verbose=True)"
      ],
      "metadata": {
        "colab": {
          "base_uri": "https://localhost:8080/"
        },
        "id": "69cXPdSvzE8l",
        "outputId": "3bda8266-1900-4768-d9d2-1a1f9ce40434"
      },
      "execution_count": 67,
      "outputs": [
        {
          "output_type": "stream",
          "name": "stdout",
          "text": [
            "Evaluating RMSE, MAE of algorithm SVDpp on 5 split(s).\n",
            "\n",
            "                  Fold 1  Fold 2  Fold 3  Fold 4  Fold 5  Mean    Std     \n",
            "RMSE (testset)    0.9230  0.9167  0.9164  0.9225  0.9200  0.9197  0.0028  \n",
            "MAE (testset)     0.7250  0.7188  0.7180  0.7213  0.7232  0.7212  0.0026  \n",
            "Fit time          26.85   26.52   26.53   26.68   26.85   26.69   0.15    \n",
            "Test time         5.50    4.63    5.82    4.43    5.66    5.21    0.57    \n"
          ]
        }
      ]
    },
    {
      "cell_type": "code",
      "source": [
        "mean_SVDpp_rmse = result_SVDpp['test_rmse'].mean()"
      ],
      "metadata": {
        "id": "-rFsIu4rzFBB"
      },
      "execution_count": 68,
      "outputs": []
    },
    {
      "cell_type": "code",
      "source": [
        "mean_SVDpp_rmse"
      ],
      "metadata": {
        "colab": {
          "base_uri": "https://localhost:8080/"
        },
        "id": "sEBwCm8LzFDo",
        "outputId": "bd6d6df2-8f11-4a0f-c416-74f00a65db35"
      },
      "execution_count": 70,
      "outputs": [
        {
          "output_type": "execute_result",
          "data": {
            "text/plain": [
              "0.919725532796463"
            ]
          },
          "metadata": {},
          "execution_count": 70
        }
      ]
    },
    {
      "cell_type": "code",
      "source": [
        "mean_SVDpp_mae = result_SVDpp['test_mae'].mean()"
      ],
      "metadata": {
        "id": "qWFGK3G60jlc"
      },
      "execution_count": 71,
      "outputs": []
    },
    {
      "cell_type": "code",
      "source": [
        "mean_SVDpp_mae"
      ],
      "metadata": {
        "colab": {
          "base_uri": "https://localhost:8080/"
        },
        "id": "KwEaCq6D0jNd",
        "outputId": "3758ede0-897b-49d6-ecfb-c69011a63d3b"
      },
      "execution_count": 72,
      "outputs": [
        {
          "output_type": "execute_result",
          "data": {
            "text/plain": [
              "0.7212495547694262"
            ]
          },
          "metadata": {},
          "execution_count": 72
        }
      ]
    },
    {
      "cell_type": "code",
      "source": [
        "\"\"\"\n",
        "Висновок\n",
        "RMSE найкращий результат NMF 0.96\n",
        "MAE найкращий результат NMF 0.75\n",
        "NMF показав найкращий результат для цього датасету\n",
        "\"\"\""
      ],
      "metadata": {
        "id": "wgVE60WKyG-8"
      },
      "execution_count": null,
      "outputs": []
    }
  ]
}